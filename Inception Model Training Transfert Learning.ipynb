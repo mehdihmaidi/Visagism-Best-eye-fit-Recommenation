{
 "cells": [
  {
   "cell_type": "code",
   "execution_count": null,
   "id": "f9afa4cb",
   "metadata": {},
   "outputs": [],
   "source": [
    "from tensorflow import keras\n",
    "from tensorflow.keras.preprocessing.image import ImageDataGenerator\n",
    "from PIL import ImageFile\n",
    "from tensorflow.keras.preprocessing import image as image_utils\n",
    "import numpy as np\n",
    "import cv2\n",
    "from PIL import Image"
   ]
  },
  {
   "cell_type": "markdown",
   "id": "32e50478",
   "metadata": {},
   "source": [
    "# Setting the Env for gpu "
   ]
  },
  {
   "cell_type": "code",
   "execution_count": null,
   "id": "b19e4dc5",
   "metadata": {},
   "outputs": [],
   "source": [
    "import tensorflow as tf\n",
    "from tensorflow.python.keras import backend as K\n",
    "\n",
    "# adjust values to your needs\n",
    "config = tf.compat.v1.ConfigProto( device_count = {'GPU': 0 } )\n",
    "sess = tf.compat.v1.Session(config=config) \n",
    "K.set_session(sess)"
   ]
  },
  {
   "cell_type": "markdown",
   "id": "abccb0f5",
   "metadata": {},
   "source": [
    "# Inception V3 model"
   ]
  },
  {
   "cell_type": "code",
   "execution_count": null,
   "id": "181a3446",
   "metadata": {},
   "outputs": [],
   "source": [
    "base_model = keras.applications.InceptionV3(\n",
    "    weights='imagenet', #<-change\n",
    "    input_shape=(224, 224, 3),\n",
    "    include_top=False)#<-Change"
   ]
  },
  {
   "cell_type": "code",
   "execution_count": null,
   "id": "08179729",
   "metadata": {},
   "outputs": [],
   "source": [
    "base_model.trainable = False #<-change"
   ]
  },
  {
   "cell_type": "code",
   "execution_count": null,
   "id": "e9e79069",
   "metadata": {},
   "outputs": [],
   "source": [
    "# Create inputs with correct shape\n",
    "inputs = keras.Input(shape=(224, 224, 3))#<-Changed\n",
    "\n",
    "x = base_model(inputs, training=False)\n",
    "\n",
    "# Add pooling layer or flatten layer\n",
    "x = keras.layers.GlobalAveragePooling2D()(x)#<-Changed\n",
    "\n",
    "# Add final dense layer\n",
    "outputs = keras.layers.Dense(5, activation = 'softmax')(x)\n",
    "\n",
    "# Combine inputs and outputs to create model\n",
    "model = keras.Model(inputs, outputs) #<-Change"
   ]
  },
  {
   "cell_type": "code",
   "execution_count": null,
   "id": "0969d98c",
   "metadata": {},
   "outputs": [],
   "source": [
    "model.summary()"
   ]
  },
  {
   "cell_type": "code",
   "execution_count": null,
   "id": "d536cb28",
   "metadata": {},
   "outputs": [],
   "source": [
    "model.compile(loss=keras.losses.BinaryCrossentropy(from_logits=True), metrics=[keras.metrics.BinaryAccuracy()])"
   ]
  },
  {
   "cell_type": "code",
   "execution_count": null,
   "id": "466a4e4e",
   "metadata": {},
   "outputs": [],
   "source": [
    "datagen = ImageDataGenerator(\n",
    "        samplewise_center=True,  # set each sample mean to 0\n",
    "        rotation_range=10,  # randomly rotate images in the range (degrees, 0 to 180)\n",
    "        zoom_range = 0.1, # Randomly zoom image \n",
    "        width_shift_range=0.1,  # randomly shift images horizontally (fraction of total width)\n",
    "        height_shift_range=0.1,  # randomly shift images vertically (fraction of total height)\n",
    "        horizontal_flip=True,  # randomly flip images\n",
    "        vertical_flip=False) # we don't expect Bo to be upside-down so we will not flip vertically"
   ]
  },
  {
   "cell_type": "code",
   "execution_count": null,
   "id": "0f9a2ec0",
   "metadata": {},
   "outputs": [],
   "source": [
    "# load and iterate training dataset\n",
    "train_it = datagen.flow_from_directory('FaceShape Dataset/training_set', \n",
    "                                       target_size=(224,224), \n",
    "                                       color_mode='rgb', \n",
    "                                       class_mode=\"categorical\")\n",
    "# load and iterate validation dataset\n",
    "valid_it = datagen.flow_from_directory('FaceShape Dataset/testing_set', \n",
    "                                      target_size=(224,224), \n",
    "                                      color_mode='rgb', \n",
    "                                      class_mode=\"categorical\")"
   ]
  },
  {
   "cell_type": "code",
   "execution_count": null,
   "id": "cc6d5b72",
   "metadata": {},
   "outputs": [],
   "source": [
    "ImageFile.LOAD_TRUNCATED_IMAGES = True"
   ]
  },
  {
   "cell_type": "code",
   "execution_count": null,
   "id": "8e0bff24",
   "metadata": {},
   "outputs": [],
   "source": [
    "# Unfreeze the base model\n",
    "base_model.trainable = True\n",
    "\n",
    "# It's important to recompile your model after you make any changes\n",
    "# to the `trainable` attribute of any inner layer, so that your changes\n",
    "# are taken into account\n",
    "model.compile(optimizer=keras.optimizers.RMSprop(learning_rate = .00001),  # Very low learning rate\n",
    "              loss='categorical_crossentropy',\n",
    "              metrics=['accuracy'])"
   ]
  },
  {
   "cell_type": "code",
   "execution_count": null,
   "id": "e1010075",
   "metadata": {},
   "outputs": [],
   "source": [
    "eff_history = model.fit_generator(train_it, validation_data = valid_it, steps_per_epoch = train_it.samples/train_it.batch_size, epochs = 15)\n",
    "#45"
   ]
  },
  {
   "cell_type": "code",
   "execution_count": null,
   "id": "8264da1c",
   "metadata": {},
   "outputs": [],
   "source": [
    "eff_history.model.evaluate(valid_it, steps=valid_it.samples/valid_it.batch_size)"
   ]
  },
  {
   "cell_type": "markdown",
   "id": "d2d30195",
   "metadata": {},
   "source": [
    "# Binary"
   ]
  },
  {
   "cell_type": "code",
   "execution_count": null,
   "id": "d5a9fd26",
   "metadata": {},
   "outputs": [],
   "source": [
    "#model.compile(optimizer = keras.optimizers.RMSprop(lr=0.00001), loss = keras.losses.BinaryCrossentropy(from_logits=False), metrics = [keras.metrics.BinaryAccuracy()])"
   ]
  },
  {
   "cell_type": "code",
   "execution_count": null,
   "id": "083a9226",
   "metadata": {},
   "outputs": [],
   "source": [
    "#eff_history = model.fit(train_it, validation_data = valid_it, steps_per_epoch = train_it.samples/train_it.batch_size, epochs = 10)\n"
   ]
  },
  {
   "cell_type": "code",
   "execution_count": null,
   "id": "c98daf44",
   "metadata": {},
   "outputs": [],
   "source": [
    "#eff_history.model.evaluate(valid_it, steps=valid_it.samples/valid_it.batch_size)"
   ]
  },
  {
   "cell_type": "markdown",
   "id": "fc9ab663",
   "metadata": {},
   "source": [
    "# Inception v 3 methode 2\n"
   ]
  },
  {
   "cell_type": "code",
   "execution_count": null,
   "id": "980529ea",
   "metadata": {},
   "outputs": [],
   "source": [
    "from tensorflow.keras.applications.inception_v3 import InceptionV3\n",
    "base_model = InceptionV3(input_shape = (224, 224, 3), include_top = False, weights = 'imagenet')"
   ]
  },
  {
   "cell_type": "code",
   "execution_count": null,
   "id": "d0758573",
   "metadata": {},
   "outputs": [],
   "source": [
    "for layer in base_model.layers:\n",
    "    layer.trainable = False"
   ]
  },
  {
   "cell_type": "code",
   "execution_count": null,
   "id": "8cfcef9f",
   "metadata": {},
   "outputs": [],
   "source": [
    "from tensorflow.keras.optimizers import RMSprop\n",
    "\n",
    "x = keras.layers.Flatten()(base_model.output)\n",
    "x = keras.layers.Dense(1024, activation='relu')(x)\n",
    "x = keras.layers.Dropout(0.2)(x)\n",
    "\n",
    "# Add a final sigmoid layer with 1 node for classification output\n",
    "x = keras.layers.Dense(5, activation='softmax')(x)\n",
    "\n",
    "model = tf.keras.models.Model(base_model.input, x)\n",
    "\n",
    "model.compile(optimizer = RMSprop(learning_rate=0.0001), loss = 'binary_crossentropy', metrics = ['acc'])"
   ]
  },
  {
   "cell_type": "code",
   "execution_count": null,
   "id": "41f02035",
   "metadata": {},
   "outputs": [],
   "source": [
    "# Unfreeze the base model\n",
    "base_model.trainable = True\n",
    "\n",
    "# It's important to recompile your model after you make any changes\n",
    "# to the `trainable` attribute of any inner layer, so that your changes\n",
    "# are taken into account\n",
    "model.compile(optimizer=keras.optimizers.RMSprop(learning_rate = .00001),  # Very low learning rate\n",
    "              loss='categorical_crossentropy',\n",
    "              metrics=['accuracy'])"
   ]
  },
  {
   "cell_type": "code",
   "execution_count": null,
   "id": "a56f9db8",
   "metadata": {},
   "outputs": [],
   "source": [
    "inc_history = model.fit_generator(train_it, validation_data = valid_it, steps_per_epoch = train_it.samples/train_it.batch_size, epochs = 10)\n"
   ]
  },
  {
   "cell_type": "markdown",
   "id": "43e3a2e0",
   "metadata": {},
   "source": [
    "# testing"
   ]
  },
  {
   "cell_type": "code",
   "execution_count": null,
   "id": "4e6bed45",
   "metadata": {},
   "outputs": [],
   "source": [
    "from tensorflow import keras\n",
    "from tensorflow.keras.preprocessing.image import ImageDataGenerator\n",
    "from PIL import ImageFile\n",
    "from tensorflow.keras.preprocessing import image as image_utils\n",
    "import numpy as np\n",
    "import cv2\n",
    "from PIL import Image"
   ]
  },
  {
   "cell_type": "code",
   "execution_count": null,
   "id": "3b43025b",
   "metadata": {},
   "outputs": [],
   "source": [
    "alphabet = ('heart','oblong','oval','round','square')\n",
    "dictionary = {}\n",
    "for i in range(5):\n",
    "    dictionary[i] = alphabet[i]\n",
    "dictionary"
   ]
  },
  {
   "cell_type": "code",
   "execution_count": null,
   "id": "cfd6de32",
   "metadata": {},
   "outputs": [],
   "source": [
    "\n",
    "def load_and_scale_image(image_path):\n",
    "    image = image_utils.load_img(image_path,target_size=(224,224))\n",
    "    return image"
   ]
  },
  {
   "cell_type": "code",
   "execution_count": null,
   "id": "c4658968",
   "metadata": {},
   "outputs": [],
   "source": [
    "import matplotlib.pyplot as plt\n",
    "import matplotlib.image as mpimg\n",
    "def show_image(image_path):\n",
    "    image = mpimg.imread(image_path)\n",
    "    plt.imshow(image)"
   ]
  },
  {
   "cell_type": "code",
   "execution_count": null,
   "id": "cd7d6b40",
   "metadata": {},
   "outputs": [],
   "source": [
    "def predict_shape(file_path):\n",
    "    #show_image(file_path)\n",
    "    #image = load_and_scale_image(file_path)\n",
    "    #image = image_utils.img_to_array(image)\n",
    "    image = image_utils.img_to_array(file_path)\n",
    "    image = image.reshape(1,224,224,3) \n",
    "    #image = image/255\n",
    "    prediction = x.predict(image)\n",
    "    proba=x.predict_on_batch(image)\n",
    "    # convert prediction to letter\n",
    "    predicted_shape = dictionary[np.argmax(prediction)]\n",
    "    return predicted_shape,proba[0][np.argmax(prediction)]*100"
   ]
  },
  {
   "cell_type": "code",
   "execution_count": null,
   "id": "503456ac",
   "metadata": {},
   "outputs": [],
   "source": [
    "import mediapipe as mp"
   ]
  },
  {
   "cell_type": "code",
   "execution_count": null,
   "id": "1d5a599d",
   "metadata": {},
   "outputs": [],
   "source": [
    "mp_drawing = mp.solutions.drawing_utils\n",
    "mp_holistic = mp.solutions.holistic\n",
    "mp_drawing.DrawingSpec(color=(0,0,255), thickness=2, circle_radius=2)"
   ]
  },
  {
   "cell_type": "code",
   "execution_count": null,
   "id": "be21ac55",
   "metadata": {},
   "outputs": [],
   "source": [
    "holistic=mp_holistic.Holistic(min_detection_confidence=0.5, min_tracking_confidence=0.5) "
   ]
  },
  {
   "cell_type": "code",
   "execution_count": null,
   "id": "5b85114a",
   "metadata": {},
   "outputs": [],
   "source": [
    "\n",
    "cap = cv2.VideoCapture(0)\n",
    "while cap.isOpened(): \n",
    "    \n",
    "    ret, frame = cap.read()\n",
    "    image = cv2.resize(frame,(224,224),3)\n",
    "    image2 = cv2.cvtColor(frame, cv2.COLOR_BGR2RGB)\n",
    "    face_class,proba = predict_shape(image)\n",
    "    #print(face_class, face_prob)\n",
    "    print(face_class,round(proba,1))\n",
    "    gray_img=cv2.cvtColor(frame,cv2.COLOR_BGR2GRAY)\n",
    "    #detect\n",
    "    results = holistic.process(image2)\n",
    "    image2 = cv2.cvtColor(image2, cv2.COLOR_RGB2BGR)\n",
    "    # print(results.face_landmarks)\n",
    "    # fce_landmarks, pose_landmarks, left_hand_landmarks, right_hand_landmarks\n",
    "        # Recolor image back to BGR for rendering\n",
    "    # 1. Draw face landmarks\n",
    "    mp_drawing.draw_landmarks(image2, results.face_landmarks, mp_holistic.FACEMESH_CONTOURS, \n",
    "                                mp_drawing.DrawingSpec(color=(80,110,10), thickness=1, circle_radius=1),\n",
    "                                mp_drawing.DrawingSpec(color=(80,256,121), thickness=1, circle_radius=1)\n",
    "                                )\n",
    "    #draw\n",
    "    \n",
    "            \n",
    "    # Display Class\n",
    "    cv2.putText(image2, 'CLASS'\n",
    "                , (95,12), cv2.FONT_HERSHEY_SIMPLEX, 0.5, (0, 0, 0), 1, cv2.LINE_AA)\n",
    "    cv2.putText(image2, face_class.split(' ')[0]\n",
    "                        , (90,40), cv2.FONT_HERSHEY_SIMPLEX, 1, (255, 255, 255), 2, cv2.LINE_AA)\n",
    "    # Display Probability\n",
    "    cv2.putText(image2, 'PROB'\n",
    "                , (15,12), cv2.FONT_HERSHEY_SIMPLEX, 0.5, (0, 0, 0), 1, cv2.LINE_AA)\n",
    "    cv2.putText(image2, str(round(proba,1))\n",
    "                   , (10,40), cv2.FONT_HERSHEY_SIMPLEX, 1, (255, 255, 255), 2, cv2.LINE_AA)\n",
    "    \n",
    "    \n",
    "    #image = cv2.resize(image,(860,640),3)\n",
    "    cv2.imshow('face shape ',  image2)\n",
    "    if cv2.waitKey(10) & 0xFF == ord('q'):\n",
    "        cap.release()\n",
    "        cv2.destroyAllWindows()\n",
    "        break"
   ]
  },
  {
   "cell_type": "code",
   "execution_count": null,
   "id": "c4f0ed3a",
   "metadata": {},
   "outputs": [],
   "source": [
    "cap.release()\n",
    "cv2.destroyAllWindows()"
   ]
  },
  {
   "cell_type": "code",
   "execution_count": null,
   "id": "2ff8021c",
   "metadata": {},
   "outputs": [],
   "source": [
    "eff_history.model.save('face shape best')#model 2"
   ]
  },
  {
   "cell_type": "code",
   "execution_count": null,
   "id": "6a2531c6",
   "metadata": {},
   "outputs": [],
   "source": [
    "x = keras.models.load_model('face shape best') # load model best"
   ]
  },
  {
   "cell_type": "code",
   "execution_count": null,
   "id": "d3b5ec88",
   "metadata": {},
   "outputs": [],
   "source": [
    "\n",
    "cap = cv2.VideoCapture(0)\n",
    "while cap.isOpened(): \n",
    "    \n",
    "    ret, frame = cap.read()\n",
    "    image = cv2.resize(frame,(224,224),3)\n",
    "    image2 = cv2.cvtColor(frame, cv2.COLOR_BGR2RGB)\n",
    "    face_class,proba = predict_shape(image)\n",
    "    #print(face_class, face_prob)\n",
    "    print(face_class,round(proba,1))\n",
    "    gray_img=cv2.cvtColor(frame,cv2.COLOR_BGR2GRAY)\n",
    "    #detect\n",
    "    results = holistic.process(image2)\n",
    "    image2 = cv2.cvtColor(image2, cv2.COLOR_RGB2BGR)\n",
    "    # print(results.face_landmarks)\n",
    "    # fce_landmarks, pose_landmarks, left_hand_landmarks, right_hand_landmarks\n",
    "        # Recolor image back to BGR for rendering\n",
    "    # 1. Draw face landmarks\n",
    "    mp_drawing.draw_landmarks(image2, results.face_landmarks, mp_holistic.FACEMESH_CONTOURS, \n",
    "                                mp_drawing.DrawingSpec(color=(80,110,10), thickness=1, circle_radius=1),\n",
    "                                mp_drawing.DrawingSpec(color=(80,256,121), thickness=1, circle_radius=1)\n",
    "                                )\n",
    "    #draw\n",
    "    \n",
    "            \n",
    "    # Display Class\n",
    "    cv2.putText(image2, 'CLASS'\n",
    "                , (95,12), cv2.FONT_HERSHEY_SIMPLEX, 0.5, (0, 0, 0), 1, cv2.LINE_AA)\n",
    "    cv2.putText(image2, face_class.split(' ')[0]\n",
    "                        , (90,40), cv2.FONT_HERSHEY_SIMPLEX, 1, (255, 255, 255), 2, cv2.LINE_AA)\n",
    "    # Display Probability\n",
    "    cv2.putText(image2, 'PROB'\n",
    "                , (15,12), cv2.FONT_HERSHEY_SIMPLEX, 0.5, (0, 0, 0), 1, cv2.LINE_AA)\n",
    "    cv2.putText(image2, str(round(proba,1))\n",
    "                   , (10,40), cv2.FONT_HERSHEY_SIMPLEX, 1, (255, 255, 255), 2, cv2.LINE_AA)\n",
    "    \n",
    "    \n",
    "    #image = cv2.resize(image,(860,640),3)\n",
    "    cv2.imshow('face shape ',  image2)\n",
    "    if cv2.waitKey(10) & 0xFF == ord('q'):\n",
    "        cap.release()\n",
    "        cv2.destroyAllWindows()\n",
    "        break"
   ]
  },
  {
   "cell_type": "code",
   "execution_count": null,
   "id": "d719d048",
   "metadata": {},
   "outputs": [],
   "source": []
  },
  {
   "cell_type": "code",
   "execution_count": null,
   "id": "61eef199",
   "metadata": {},
   "outputs": [],
   "source": []
  }
 ],
 "metadata": {
  "kernelspec": {
   "display_name": "Python 3 (ipykernel)",
   "language": "python",
   "name": "python3"
  },
  "language_info": {
   "codemirror_mode": {
    "name": "ipython",
    "version": 3
   },
   "file_extension": ".py",
   "mimetype": "text/x-python",
   "name": "python",
   "nbconvert_exporter": "python",
   "pygments_lexer": "ipython3",
   "version": "3.9.7"
  }
 },
 "nbformat": 4,
 "nbformat_minor": 5
}
